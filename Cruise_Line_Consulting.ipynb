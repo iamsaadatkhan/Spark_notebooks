{
 "cells": [
  {
   "cell_type": "code",
   "execution_count": 1,
   "id": "680c87f6",
   "metadata": {},
   "outputs": [],
   "source": [
    "import findspark"
   ]
  },
  {
   "cell_type": "code",
   "execution_count": 2,
   "id": "e9598564",
   "metadata": {},
   "outputs": [],
   "source": [
    "findspark.init('/home/saadatullah/spark-3.3.0-bin-hadoop3')"
   ]
  },
  {
   "cell_type": "code",
   "execution_count": 3,
   "id": "53fe05b5",
   "metadata": {},
   "outputs": [],
   "source": [
    "import pyspark"
   ]
  },
  {
   "cell_type": "code",
   "execution_count": 4,
   "id": "4a284893",
   "metadata": {},
   "outputs": [],
   "source": [
    "from pyspark.sql import SparkSession"
   ]
  },
  {
   "cell_type": "code",
   "execution_count": 6,
   "id": "99cc1b01",
   "metadata": {},
   "outputs": [
    {
     "name": "stdout",
     "output_type": "stream",
     "text": [
      "22/08/01 21:45:18 WARN Utils: Your hostname, saadatullah-VirtualBox resolves to a loopback address: 127.0.1.1; using 10.0.2.15 instead (on interface enp0s3)\n",
      "22/08/01 21:45:18 WARN Utils: Set SPARK_LOCAL_IP if you need to bind to another address\n"
     ]
    },
    {
     "name": "stderr",
     "output_type": "stream",
     "text": [
      "Setting default log level to \"WARN\".\n",
      "To adjust logging level use sc.setLogLevel(newLevel). For SparkR, use setLogLevel(newLevel).\n"
     ]
    },
    {
     "name": "stdout",
     "output_type": "stream",
     "text": [
      "22/08/01 21:45:20 WARN NativeCodeLoader: Unable to load native-hadoop library for your platform... using builtin-java classes where applicable\n"
     ]
    }
   ],
   "source": [
    "spark = SparkSession.builder.appName('Crs_Line').getOrCreate()"
   ]
  },
  {
   "cell_type": "code",
   "execution_count": 7,
   "id": "7b6934cb",
   "metadata": {},
   "outputs": [
    {
     "name": "stderr",
     "output_type": "stream",
     "text": [
      "                                                                                \r"
     ]
    }
   ],
   "source": [
    "data = spark.read.csv('examples/src/main/resources/cruise_ship_info.csv' , inferSchema=True , header=True) "
   ]
  },
  {
   "cell_type": "code",
   "execution_count": 8,
   "id": "0c2fc190",
   "metadata": {},
   "outputs": [
    {
     "name": "stdout",
     "output_type": "stream",
     "text": [
      "+-----------+-----------+---+-------+----------+------+------+-----------------+----+\n",
      "|  Ship_name|Cruise_line|Age|Tonnage|passengers|length|cabins|passenger_density|crew|\n",
      "+-----------+-----------+---+-------+----------+------+------+-----------------+----+\n",
      "|    Journey|    Azamara|  6| 30.277|      6.94|  5.94|  3.55|            42.64|3.55|\n",
      "|      Quest|    Azamara|  6| 30.277|      6.94|  5.94|  3.55|            42.64|3.55|\n",
      "|Celebration|   Carnival| 26| 47.262|     14.86|  7.22|  7.43|             31.8| 6.7|\n",
      "|   Conquest|   Carnival| 11|  110.0|     29.74|  9.53| 14.88|            36.99|19.1|\n",
      "|    Destiny|   Carnival| 17|101.353|     26.42|  8.92| 13.21|            38.36|10.0|\n",
      "|    Ecstasy|   Carnival| 22| 70.367|     20.52|  8.55|  10.2|            34.29| 9.2|\n",
      "|    Elation|   Carnival| 15| 70.367|     20.52|  8.55|  10.2|            34.29| 9.2|\n",
      "|    Fantasy|   Carnival| 23| 70.367|     20.56|  8.55| 10.22|            34.23| 9.2|\n",
      "|Fascination|   Carnival| 19| 70.367|     20.52|  8.55|  10.2|            34.29| 9.2|\n",
      "|    Freedom|   Carnival|  6|110.239|      37.0|  9.51| 14.87|            29.79|11.5|\n",
      "|      Glory|   Carnival| 10|  110.0|     29.74|  9.51| 14.87|            36.99|11.6|\n",
      "|    Holiday|   Carnival| 28| 46.052|     14.52|  7.27|  7.26|            31.72| 6.6|\n",
      "|Imagination|   Carnival| 18| 70.367|     20.52|  8.55|  10.2|            34.29| 9.2|\n",
      "|Inspiration|   Carnival| 17| 70.367|     20.52|  8.55|  10.2|            34.29| 9.2|\n",
      "|     Legend|   Carnival| 11|   86.0|     21.24|  9.63| 10.62|            40.49| 9.3|\n",
      "|   Liberty*|   Carnival|  8|  110.0|     29.74|  9.51| 14.87|            36.99|11.6|\n",
      "|    Miracle|   Carnival|  9|   88.5|     21.24|  9.63| 10.62|            41.67|10.3|\n",
      "|   Paradise|   Carnival| 15| 70.367|     20.52|  8.55|  10.2|            34.29| 9.2|\n",
      "|      Pride|   Carnival| 12|   88.5|     21.24|  9.63| 11.62|            41.67| 9.3|\n",
      "|  Sensation|   Carnival| 20| 70.367|     20.52|  8.55|  10.2|            34.29| 9.2|\n",
      "+-----------+-----------+---+-------+----------+------+------+-----------------+----+\n",
      "only showing top 20 rows\n",
      "\n"
     ]
    }
   ],
   "source": [
    "data.show()"
   ]
  },
  {
   "cell_type": "code",
   "execution_count": 10,
   "id": "82eff8b8",
   "metadata": {},
   "outputs": [
    {
     "name": "stdout",
     "output_type": "stream",
     "text": [
      "root\n",
      " |-- Ship_name: string (nullable = true)\n",
      " |-- Cruise_line: string (nullable = true)\n",
      " |-- Age: integer (nullable = true)\n",
      " |-- Tonnage: double (nullable = true)\n",
      " |-- passengers: double (nullable = true)\n",
      " |-- length: double (nullable = true)\n",
      " |-- cabins: double (nullable = true)\n",
      " |-- passenger_density: double (nullable = true)\n",
      " |-- crew: double (nullable = true)\n",
      "\n"
     ]
    }
   ],
   "source": [
    "data.printSchema()"
   ]
  },
  {
   "cell_type": "code",
   "execution_count": 11,
   "id": "4a446666",
   "metadata": {},
   "outputs": [
    {
     "data": {
      "text/plain": [
       "['Ship_name',\n",
       " 'Cruise_line',\n",
       " 'Age',\n",
       " 'Tonnage',\n",
       " 'passengers',\n",
       " 'length',\n",
       " 'cabins',\n",
       " 'passenger_density',\n",
       " 'crew']"
      ]
     },
     "execution_count": 11,
     "metadata": {},
     "output_type": "execute_result"
    }
   ],
   "source": [
    "data.columns"
   ]
  },
  {
   "cell_type": "code",
   "execution_count": 12,
   "id": "d3c7af08",
   "metadata": {},
   "outputs": [],
   "source": [
    "from pyspark.ml.feature import StringIndexer"
   ]
  },
  {
   "cell_type": "code",
   "execution_count": 22,
   "id": "991a1add",
   "metadata": {},
   "outputs": [
    {
     "name": "stderr",
     "output_type": "stream",
     "text": [
      "                                                                                \r"
     ]
    },
    {
     "name": "stdout",
     "output_type": "stream",
     "text": [
      "+-----------+-----------+---+-------+----------+------+------+-----------------+----+-------------------+\n",
      "|  Ship_name|Cruise_line|Age|Tonnage|passengers|length|cabins|passenger_density|crew|Indexed_Cruise_Line|\n",
      "+-----------+-----------+---+-------+----------+------+------+-----------------+----+-------------------+\n",
      "|    Journey|    Azamara|  6| 30.277|      6.94|  5.94|  3.55|            42.64|3.55|               16.0|\n",
      "|      Quest|    Azamara|  6| 30.277|      6.94|  5.94|  3.55|            42.64|3.55|               16.0|\n",
      "|Celebration|   Carnival| 26| 47.262|     14.86|  7.22|  7.43|             31.8| 6.7|                1.0|\n",
      "|   Conquest|   Carnival| 11|  110.0|     29.74|  9.53| 14.88|            36.99|19.1|                1.0|\n",
      "|    Destiny|   Carnival| 17|101.353|     26.42|  8.92| 13.21|            38.36|10.0|                1.0|\n",
      "|    Ecstasy|   Carnival| 22| 70.367|     20.52|  8.55|  10.2|            34.29| 9.2|                1.0|\n",
      "|    Elation|   Carnival| 15| 70.367|     20.52|  8.55|  10.2|            34.29| 9.2|                1.0|\n",
      "|    Fantasy|   Carnival| 23| 70.367|     20.56|  8.55| 10.22|            34.23| 9.2|                1.0|\n",
      "|Fascination|   Carnival| 19| 70.367|     20.52|  8.55|  10.2|            34.29| 9.2|                1.0|\n",
      "|    Freedom|   Carnival|  6|110.239|      37.0|  9.51| 14.87|            29.79|11.5|                1.0|\n",
      "|      Glory|   Carnival| 10|  110.0|     29.74|  9.51| 14.87|            36.99|11.6|                1.0|\n",
      "|    Holiday|   Carnival| 28| 46.052|     14.52|  7.27|  7.26|            31.72| 6.6|                1.0|\n",
      "|Imagination|   Carnival| 18| 70.367|     20.52|  8.55|  10.2|            34.29| 9.2|                1.0|\n",
      "|Inspiration|   Carnival| 17| 70.367|     20.52|  8.55|  10.2|            34.29| 9.2|                1.0|\n",
      "|     Legend|   Carnival| 11|   86.0|     21.24|  9.63| 10.62|            40.49| 9.3|                1.0|\n",
      "|   Liberty*|   Carnival|  8|  110.0|     29.74|  9.51| 14.87|            36.99|11.6|                1.0|\n",
      "|    Miracle|   Carnival|  9|   88.5|     21.24|  9.63| 10.62|            41.67|10.3|                1.0|\n",
      "|   Paradise|   Carnival| 15| 70.367|     20.52|  8.55|  10.2|            34.29| 9.2|                1.0|\n",
      "|      Pride|   Carnival| 12|   88.5|     21.24|  9.63| 11.62|            41.67| 9.3|                1.0|\n",
      "|  Sensation|   Carnival| 20| 70.367|     20.52|  8.55|  10.2|            34.29| 9.2|                1.0|\n",
      "+-----------+-----------+---+-------+----------+------+------+-----------------+----+-------------------+\n",
      "only showing top 20 rows\n",
      "\n"
     ]
    }
   ],
   "source": [
    "Indexer = StringIndexer(inputCol='Cruise_line' , outputCol='Indexed_Cruise_Line')\n",
    "Indexed = Indexer.fit(data).transform(data)\n",
    "Indexed.show()"
   ]
  },
  {
   "cell_type": "code",
   "execution_count": 27,
   "id": "3cf7bd53",
   "metadata": {},
   "outputs": [
    {
     "data": {
      "text/plain": [
       "['Ship_name',\n",
       " 'Cruise_line',\n",
       " 'Age',\n",
       " 'Tonnage',\n",
       " 'passengers',\n",
       " 'length',\n",
       " 'cabins',\n",
       " 'passenger_density',\n",
       " 'crew',\n",
       " 'Indexed_Cruise_Line']"
      ]
     },
     "execution_count": 27,
     "metadata": {},
     "output_type": "execute_result"
    }
   ],
   "source": [
    "Indexed.columns"
   ]
  },
  {
   "cell_type": "code",
   "execution_count": 28,
   "id": "fc99eb84",
   "metadata": {},
   "outputs": [
    {
     "name": "stdout",
     "output_type": "stream",
     "text": [
      "root\n",
      " |-- Ship_name: string (nullable = true)\n",
      " |-- Cruise_line: string (nullable = true)\n",
      " |-- Age: integer (nullable = true)\n",
      " |-- Tonnage: double (nullable = true)\n",
      " |-- passengers: double (nullable = true)\n",
      " |-- length: double (nullable = true)\n",
      " |-- cabins: double (nullable = true)\n",
      " |-- passenger_density: double (nullable = true)\n",
      " |-- crew: double (nullable = true)\n",
      " |-- Indexed_Cruise_Line: double (nullable = false)\n",
      "\n"
     ]
    }
   ],
   "source": [
    "Indexed.printSchema()"
   ]
  },
  {
   "cell_type": "code",
   "execution_count": 29,
   "id": "8dd97826",
   "metadata": {},
   "outputs": [],
   "source": [
    "from pyspark.ml.linalg import Vectors\n",
    "from pyspark.ml.feature import VectorAssembler"
   ]
  },
  {
   "cell_type": "code",
   "execution_count": 58,
   "id": "7ac2bda1",
   "metadata": {},
   "outputs": [],
   "source": [
    "assembler = VectorAssembler(inputCols=['passengers',\n",
    " 'cabins',\n",
    " 'passenger_density',\n",
    " 'Indexed_Cruise_Line' , ], outputCol='features')"
   ]
  },
  {
   "cell_type": "code",
   "execution_count": 59,
   "id": "d129e03e",
   "metadata": {},
   "outputs": [],
   "source": [
    "output = assembler.transform(Indexed)"
   ]
  },
  {
   "cell_type": "code",
   "execution_count": 60,
   "id": "2f1bbc1e",
   "metadata": {},
   "outputs": [
    {
     "data": {
      "text/plain": [
       "Row(Ship_name='Journey', Cruise_line='Azamara', Age=6, Tonnage=30.277, passengers=6.94, length=5.94, cabins=3.55, passenger_density=42.64, crew=3.55, Indexed_Cruise_Line=16.0, features=DenseVector([6.94, 3.55, 42.64, 16.0]))"
      ]
     },
     "execution_count": 60,
     "metadata": {},
     "output_type": "execute_result"
    }
   ],
   "source": [
    "output.head()"
   ]
  },
  {
   "cell_type": "code",
   "execution_count": 61,
   "id": "8a22641d",
   "metadata": {},
   "outputs": [
    {
     "data": {
      "text/plain": [
       "Row(Ship_name='Journey', Cruise_line='Azamara', Age=6, Tonnage=30.277, passengers=6.94, length=5.94, cabins=3.55, passenger_density=42.64, crew=3.55, Indexed_Cruise_Line=16.0, features=DenseVector([6.94, 3.55, 42.64, 16.0]))"
      ]
     },
     "execution_count": 61,
     "metadata": {},
     "output_type": "execute_result"
    }
   ],
   "source": [
    "output.head(1)[0]"
   ]
  },
  {
   "cell_type": "code",
   "execution_count": 62,
   "id": "4e8deb67",
   "metadata": {},
   "outputs": [
    {
     "name": "stdout",
     "output_type": "stream",
     "text": [
      "Journey\n",
      "Azamara\n",
      "6\n",
      "30.277\n",
      "6.94\n",
      "5.94\n",
      "3.55\n",
      "42.64\n",
      "3.55\n",
      "16.0\n",
      "[6.94,3.55,42.64,16.0]\n"
     ]
    }
   ],
   "source": [
    "for item in output.head(1)[0]:\n",
    "    print(item)"
   ]
  },
  {
   "cell_type": "code",
   "execution_count": 63,
   "id": "35da8d94",
   "metadata": {},
   "outputs": [],
   "source": [
    "from pyspark.ml.regression import LinearRegression"
   ]
  },
  {
   "cell_type": "code",
   "execution_count": 64,
   "id": "27078752",
   "metadata": {},
   "outputs": [],
   "source": [
    "final_data_to_work = output.select(['crew' , 'features'])"
   ]
  },
  {
   "cell_type": "code",
   "execution_count": 65,
   "id": "fcc0eeaf",
   "metadata": {},
   "outputs": [
    {
     "name": "stdout",
     "output_type": "stream",
     "text": [
      "+----+--------------------+\n",
      "|crew|            features|\n",
      "+----+--------------------+\n",
      "|3.55|[6.94,3.55,42.64,...|\n",
      "|3.55|[6.94,3.55,42.64,...|\n",
      "| 6.7|[14.86,7.43,31.8,...|\n",
      "|19.1|[29.74,14.88,36.9...|\n",
      "|10.0|[26.42,13.21,38.3...|\n",
      "| 9.2|[20.52,10.2,34.29...|\n",
      "| 9.2|[20.52,10.2,34.29...|\n",
      "| 9.2|[20.56,10.22,34.2...|\n",
      "| 9.2|[20.52,10.2,34.29...|\n",
      "|11.5|[37.0,14.87,29.79...|\n",
      "|11.6|[29.74,14.87,36.9...|\n",
      "| 6.6|[14.52,7.26,31.72...|\n",
      "| 9.2|[20.52,10.2,34.29...|\n",
      "| 9.2|[20.52,10.2,34.29...|\n",
      "| 9.3|[21.24,10.62,40.4...|\n",
      "|11.6|[29.74,14.87,36.9...|\n",
      "|10.3|[21.24,10.62,41.6...|\n",
      "| 9.2|[20.52,10.2,34.29...|\n",
      "| 9.3|[21.24,11.62,41.6...|\n",
      "| 9.2|[20.52,10.2,34.29...|\n",
      "+----+--------------------+\n",
      "only showing top 20 rows\n",
      "\n"
     ]
    }
   ],
   "source": [
    "final_data_to_work.show()"
   ]
  },
  {
   "cell_type": "code",
   "execution_count": 66,
   "id": "16d9249a",
   "metadata": {},
   "outputs": [],
   "source": [
    "train_data , test_data = final_data_to_work.randomSplit([0.7 , 0.3])"
   ]
  },
  {
   "cell_type": "code",
   "execution_count": 67,
   "id": "25d2b820",
   "metadata": {},
   "outputs": [
    {
     "name": "stdout",
     "output_type": "stream",
     "text": [
      "+-------+------------------+\n",
      "|summary|              crew|\n",
      "+-------+------------------+\n",
      "|  count|               100|\n",
      "|   mean| 7.751800000000002|\n",
      "| stddev|3.6963532069193588|\n",
      "|    min|              0.59|\n",
      "|    max|              21.0|\n",
      "+-------+------------------+\n",
      "\n"
     ]
    }
   ],
   "source": [
    "train_data.describe().show()"
   ]
  },
  {
   "cell_type": "code",
   "execution_count": 68,
   "id": "bc9b549c",
   "metadata": {},
   "outputs": [
    {
     "name": "stdout",
     "output_type": "stream",
     "text": [
      "+-------+------------------+\n",
      "|summary|              crew|\n",
      "+-------+------------------+\n",
      "|  count|                58|\n",
      "|   mean| 7.867241379310346|\n",
      "| stddev|3.1732289123521387|\n",
      "|    min|              0.59|\n",
      "|    max|             13.13|\n",
      "+-------+------------------+\n",
      "\n"
     ]
    }
   ],
   "source": [
    "test_data.describe().show()"
   ]
  },
  {
   "cell_type": "code",
   "execution_count": 69,
   "id": "52081933",
   "metadata": {},
   "outputs": [],
   "source": [
    "lr = LinearRegression(labelCol='crew' , featuresCol='features')"
   ]
  },
  {
   "cell_type": "code",
   "execution_count": 73,
   "id": "a40d58e5",
   "metadata": {},
   "outputs": [
    {
     "name": "stdout",
     "output_type": "stream",
     "text": [
      "22/08/01 22:43:22 WARN Instrumentation: [aa4890af] regParam is zero, which might cause numerical instability and overfitting.\n"
     ]
    }
   ],
   "source": [
    "lr_model = lr.fit(train_data)"
   ]
  },
  {
   "cell_type": "code",
   "execution_count": 74,
   "id": "2e1f064e",
   "metadata": {},
   "outputs": [],
   "source": [
    "test_result = lr_model.evaluate(test_data)"
   ]
  },
  {
   "cell_type": "code",
   "execution_count": 75,
   "id": "e7c43138",
   "metadata": {},
   "outputs": [
    {
     "name": "stdout",
     "output_type": "stream",
     "text": [
      "+--------------------+\n",
      "|           residuals|\n",
      "+--------------------+\n",
      "| -0.8189077479029171|\n",
      "| 0.09695832959461081|\n",
      "| -0.5313675206111113|\n",
      "| -0.4996379249290319|\n",
      "|-0.45431027688982084|\n",
      "|  -0.164384030444086|\n",
      "| -1.0815231155667187|\n",
      "| 0.05996180646639537|\n",
      "| 0.06435814874186052|\n",
      "| 0.06435814874186052|\n",
      "|-0.04525409585768081|\n",
      "|  1.9497751912132482|\n",
      "| 0.16992778742599324|\n",
      "|-0.11970784721022731|\n",
      "|-0.29796088497920437|\n",
      "| -0.5466028108127094|\n",
      "| -1.4718268514731223|\n",
      "|  0.3273963336085419|\n",
      "| -1.4580463806130322|\n",
      "|  0.4136156026159261|\n",
      "+--------------------+\n",
      "only showing top 20 rows\n",
      "\n"
     ]
    }
   ],
   "source": [
    "test_result.residuals.show()"
   ]
  },
  {
   "cell_type": "code",
   "execution_count": 76,
   "id": "97fac06f",
   "metadata": {},
   "outputs": [
    {
     "data": {
      "text/plain": [
       "0.9290026292531715"
      ]
     },
     "execution_count": 76,
     "metadata": {},
     "output_type": "execute_result"
    }
   ],
   "source": [
    "test_result.r2"
   ]
  },
  {
   "cell_type": "code",
   "execution_count": 77,
   "id": "c39faa41",
   "metadata": {},
   "outputs": [
    {
     "data": {
      "text/plain": [
       "0.8381967383831791"
      ]
     },
     "execution_count": 77,
     "metadata": {},
     "output_type": "execute_result"
    }
   ],
   "source": [
    "test_result.rootMeanSquaredError"
   ]
  },
  {
   "cell_type": "code",
   "execution_count": 78,
   "id": "cb027825",
   "metadata": {},
   "outputs": [],
   "source": [
    "unlabelled_data = test_data.select('features')"
   ]
  },
  {
   "cell_type": "code",
   "execution_count": 79,
   "id": "24f9b03d",
   "metadata": {},
   "outputs": [
    {
     "name": "stdout",
     "output_type": "stream",
     "text": [
      "+--------------------+\n",
      "|            features|\n",
      "+--------------------+\n",
      "|[0.66,0.33,50.62,...|\n",
      "|[3.94,0.88,31.73,...|\n",
      "|[2.96,1.48,56.76,...|\n",
      "| [3.2,1.6,60.0,10.0]|\n",
      "|[9.52,3.83,17.7,7.0]|\n",
      "|[4.9,2.45,67.35,1...|\n",
      "|[8.26,4.25,26.73,...|\n",
      "|[7.76,3.86,32.22,...|\n",
      "|[6.84,3.42,44.26,...|\n",
      "|[6.84,3.42,44.26,...|\n",
      "|[8.08,4.1,35.19,5.0]|\n",
      "|[7.0,1.82,65.71,1...|\n",
      "|[11.78,5.3,38.2,8.0]|\n",
      "|[12.14,6.07,27.94...|\n",
      "|[12.64,6.32,43.87...|\n",
      "|[14.94,7.47,36.06...|\n",
      "|[17.48,8.74,29.04...|\n",
      "|[13.2,6.6,45.19,3.0]|\n",
      "|[24.35,10.0,32.23...|\n",
      "|[13.66,6.87,34.57...|\n",
      "+--------------------+\n",
      "only showing top 20 rows\n",
      "\n"
     ]
    }
   ],
   "source": [
    "unlabelled_data.show()"
   ]
  },
  {
   "cell_type": "code",
   "execution_count": 80,
   "id": "267e502a",
   "metadata": {},
   "outputs": [],
   "source": [
    "predictions = lr_model.transform(unlabelled_data)"
   ]
  },
  {
   "cell_type": "code",
   "execution_count": 81,
   "id": "85d7fa04",
   "metadata": {},
   "outputs": [
    {
     "name": "stdout",
     "output_type": "stream",
     "text": [
      "+--------------------+------------------+\n",
      "|            features|        prediction|\n",
      "+--------------------+------------------+\n",
      "|[0.66,0.33,50.62,...| 1.408907747902917|\n",
      "|[3.94,0.88,31.73,...|1.3630416704053891|\n",
      "|[2.96,1.48,56.76,...|2.5013675206111112|\n",
      "| [3.2,1.6,60.0,10.0]| 2.609637924929032|\n",
      "|[9.52,3.83,17.7,7.0]| 3.424310276889821|\n",
      "|[4.9,2.45,67.35,1...| 3.404384030444086|\n",
      "|[8.26,4.25,26.73,...| 4.581523115566719|\n",
      "|[7.76,3.86,32.22,...|3.7900381935336047|\n",
      "|[6.84,3.42,44.26,...|3.9356418512581395|\n",
      "|[6.84,3.42,44.26,...|3.9356418512581395|\n",
      "|[8.08,4.1,35.19,5.0]| 4.045254095857681|\n",
      "|[7.0,1.82,65.71,1...|2.5202248087867516|\n",
      "|[11.78,5.3,38.2,8.0]| 5.030072212574007|\n",
      "|[12.14,6.07,27.94...| 5.419707847210227|\n",
      "|[12.64,6.32,43.87...| 5.867960884979205|\n",
      "|[14.94,7.47,36.06...|  6.66660281081271|\n",
      "|[17.48,8.74,29.04...| 7.611826851473122|\n",
      "|[13.2,6.6,45.19,3.0]|6.1126036663914585|\n",
      "|[24.35,10.0,32.23...| 8.058046380613032|\n",
      "|[13.66,6.87,34.57...| 6.286384397384074|\n",
      "+--------------------+------------------+\n",
      "only showing top 20 rows\n",
      "\n"
     ]
    }
   ],
   "source": [
    "predictions.show()"
   ]
  },
  {
   "cell_type": "code",
   "execution_count": 82,
   "id": "2f01b04f",
   "metadata": {},
   "outputs": [
    {
     "name": "stdout",
     "output_type": "stream",
     "text": [
      "+----+--------------------+\n",
      "|crew|            features|\n",
      "+----+--------------------+\n",
      "|0.59|[0.66,0.33,50.62,...|\n",
      "|1.46|[3.94,0.88,31.73,...|\n",
      "|1.97|[2.96,1.48,56.76,...|\n",
      "|2.11| [3.2,1.6,60.0,10.0]|\n",
      "|2.97|[9.52,3.83,17.7,7.0]|\n",
      "|3.24|[4.9,2.45,67.35,1...|\n",
      "| 3.5|[8.26,4.25,26.73,...|\n",
      "|3.85|[7.76,3.86,32.22,...|\n",
      "| 4.0|[6.84,3.42,44.26,...|\n",
      "| 4.0|[6.84,3.42,44.26,...|\n",
      "| 4.0|[8.08,4.1,35.19,5.0]|\n",
      "|4.47|[7.0,1.82,65.71,1...|\n",
      "| 5.2|[11.78,5.3,38.2,8.0]|\n",
      "| 5.3|[12.14,6.07,27.94...|\n",
      "|5.57|[12.64,6.32,43.87...|\n",
      "|6.12|[14.94,7.47,36.06...|\n",
      "|6.14|[17.48,8.74,29.04...|\n",
      "|6.44|[13.2,6.6,45.19,3.0]|\n",
      "| 6.6|[24.35,10.0,32.23...|\n",
      "| 6.7|[13.66,6.87,34.57...|\n",
      "+----+--------------------+\n",
      "only showing top 20 rows\n",
      "\n"
     ]
    }
   ],
   "source": [
    "test_data.show()"
   ]
  },
  {
   "cell_type": "code",
   "execution_count": null,
   "id": "e0b4db69",
   "metadata": {},
   "outputs": [],
   "source": []
  }
 ],
 "metadata": {
  "kernelspec": {
   "display_name": "Python 3 (ipykernel)",
   "language": "python",
   "name": "python3"
  },
  "language_info": {
   "codemirror_mode": {
    "name": "ipython",
    "version": 3
   },
   "file_extension": ".py",
   "mimetype": "text/x-python",
   "name": "python",
   "nbconvert_exporter": "python",
   "pygments_lexer": "ipython3",
   "version": "3.10.4"
  }
 },
 "nbformat": 4,
 "nbformat_minor": 5
}
