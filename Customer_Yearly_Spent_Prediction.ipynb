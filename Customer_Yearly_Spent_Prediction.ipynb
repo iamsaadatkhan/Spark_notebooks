{
 "cells": [
  {
   "cell_type": "code",
   "execution_count": 1,
   "id": "a7c294bc",
   "metadata": {},
   "outputs": [],
   "source": [
    "import findspark"
   ]
  },
  {
   "cell_type": "code",
   "execution_count": 2,
   "id": "5c4d8217",
   "metadata": {},
   "outputs": [],
   "source": [
    "findspark.init('/home/saadatullah/spark-3.3.0-bin-hadoop3')"
   ]
  },
  {
   "cell_type": "code",
   "execution_count": 3,
   "id": "314d561e",
   "metadata": {},
   "outputs": [],
   "source": [
    "import pyspark"
   ]
  },
  {
   "cell_type": "code",
   "execution_count": 4,
   "id": "c7903761",
   "metadata": {},
   "outputs": [],
   "source": [
    "from pyspark.sql import SparkSession"
   ]
  },
  {
   "cell_type": "code",
   "execution_count": 6,
   "id": "4fe5f19b",
   "metadata": {},
   "outputs": [
    {
     "name": "stdout",
     "output_type": "stream",
     "text": [
      "22/07/31 22:05:45 WARN Utils: Your hostname, saadatullah-VirtualBox resolves to a loopback address: 127.0.1.1; using 10.0.2.15 instead (on interface enp0s3)\n",
      "22/07/31 22:05:45 WARN Utils: Set SPARK_LOCAL_IP if you need to bind to another address\n"
     ]
    },
    {
     "name": "stderr",
     "output_type": "stream",
     "text": [
      "Setting default log level to \"WARN\".\n",
      "To adjust logging level use sc.setLogLevel(newLevel). For SparkR, use setLogLevel(newLevel).\n"
     ]
    },
    {
     "name": "stdout",
     "output_type": "stream",
     "text": [
      "22/07/31 22:05:46 WARN NativeCodeLoader: Unable to load native-hadoop library for your platform... using builtin-java classes where applicable\n"
     ]
    }
   ],
   "source": [
    "spark = SparkSession.builder.appName('lr_expamle').getOrCreate()"
   ]
  },
  {
   "cell_type": "code",
   "execution_count": 7,
   "id": "787a2420",
   "metadata": {},
   "outputs": [],
   "source": [
    "from pyspark.ml.regression import LinearRegression"
   ]
  },
  {
   "cell_type": "code",
   "execution_count": 8,
   "id": "4d76040f",
   "metadata": {},
   "outputs": [
    {
     "name": "stderr",
     "output_type": "stream",
     "text": [
      "                                                                                \r"
     ]
    }
   ],
   "source": [
    "data = spark.read.csv('examples/src/main/resources/Customers_Examples.csv' , inferSchema=True , header=True)"
   ]
  },
  {
   "cell_type": "code",
   "execution_count": 9,
   "id": "a3aee0fc",
   "metadata": {},
   "outputs": [
    {
     "name": "stdout",
     "output_type": "stream",
     "text": [
      "root\n",
      " |-- Email: string (nullable = true)\n",
      " |-- Address: string (nullable = true)\n",
      " |-- Avatar: string (nullable = true)\n",
      " |-- Avg Session Length: double (nullable = true)\n",
      " |-- Time on App: double (nullable = true)\n",
      " |-- Time on Website: double (nullable = true)\n",
      " |-- Length of Membership: double (nullable = true)\n",
      " |-- Yearly Amount Spent: double (nullable = true)\n",
      "\n"
     ]
    }
   ],
   "source": [
    "data.printSchema()"
   ]
  },
  {
   "cell_type": "code",
   "execution_count": 21,
   "id": "349f6a9d",
   "metadata": {},
   "outputs": [
    {
     "name": "stdout",
     "output_type": "stream",
     "text": [
      "+--------------------+--------------------+----------------+------------------+----------------+----------------+--------------------+-------------------+\n",
      "|               Email|             Address|          Avatar|Avg Session Length|     Time on App| Time on Website|Length of Membership|Yearly Amount Spent|\n",
      "+--------------------+--------------------+----------------+------------------+----------------+----------------+--------------------+-------------------+\n",
      "|mstephenson@ferna...|835 Frank TunnelW...|          Violet|  34.4972677251123|12.6556511491668|39.5776680195262|    4.08262063295296|   587.951053968401|\n",
      "|   hduke@hotmail.com|4547 Archer Commo...|       DarkGreen|  31.9262720263602|11.1094607286826|37.2689588682977|    2.66403418213262|   392.204933444326|\n",
      "|    pallen@yahoo.com|24645 Valerie Uni...|          Bisque|  33.0009147556427|11.3302780577775|37.1105974421209|    4.10454320237642|   487.547504867472|\n",
      "|riverarebecca@gma...|1414 David Throug...|     SaddleBrown|  34.3055566297555|13.7175136651425|36.7212826779031|    3.12017878274809|   581.852344035218|\n",
      "|mstephens@davidso...|14023 Rodriguez P...|MediumAquaMarine|  33.3306725236464|12.7951885510781|37.5366533005947|    4.44630831835143|   599.406092045764|\n",
      "|alvareznancy@luca...|645 Martha Park A...|     FloralWhite|   33.871037879342|12.0269253397551|34.4768776292505|     5.4935072013642|   637.102447915074|\n",
      "|katherine20@yahoo...|68388 Reyes Light...|   DarkSlateBlue|   32.021595501387|11.3663483097105|36.6837761528696|    4.68501724657091|   521.572174757827|\n",
      "|  awatkins@yahoo.com|Unit 6538 Box 898...|            Aqua|  32.7391429383803|12.3519589730029|37.3733588585475|    4.43427343489994|   549.904146105294|\n",
      "|vchurch@walter-ma...|860 Lee KeyWest D...|          Salmon|  33.9877728956856|13.3862352756764|37.5344973415557|    3.27343357774771|    570.20040896362|\n",
      "|    bonnie69@lin.biz|PSC 2734, Box 525...|           Brown|  31.9365486184489|11.8141282949722|37.1451682235282|    3.20280607155346|   427.199384895328|\n",
      "|andrew06@peterson...|26104 Alexander G...|          Tomato|  33.9925727749537|13.3389754476621|37.2258061316211|     2.4826077705106|   492.606012717997|\n",
      "|ryanwerner@freema...|Unit 2413 Box 034...|          Tomato|   33.879360824805|11.5847829995353|37.0879260709838|    3.71320920294043|   522.337404606936|\n",
      "|   knelson@gmail.com|6705 Miller Orcha...|       RoyalBlue|  29.5324289670579|10.9612984001541|37.4202155750254|    4.04642316429959|   408.640351072627|\n",
      "|wrightpeter@yahoo...|05302 Dunlap Ferr...|          Bisque|  33.1903340437227|12.9592260916094|36.1446667000419|      3.918541839159|   573.415867331387|\n",
      "|taylormason@gmail...|7773 Powell Sprin...|        DarkBlue|  32.3879758531539|13.1487256920565|36.6199570827992|    2.49454364665925|   470.452733300955|\n",
      "| jstark@anderson.com|49558 Ramirez Roa...|            Peru|  30.7377203726282|12.6366060520001|36.2137630936986|    3.35784684232629|    461.78074219623|\n",
      "| wjennings@gmail.com|6362 Wilson Mount...|      PowderBlue|  32.1253868972878|11.7338616908574|34.8940927514398|    3.13613271648978|   457.847695944949|\n",
      "|rebecca45@hale-ba...|8982 Burton RowWi...|       OliveDrab|  32.3388993230672|12.0131946940144|38.3851365941384|    2.42080616090148|   407.704547549544|\n",
      "|alejandro75@hotma...|64475 Andre Club ...|            Cyan|  32.1878120459322|14.7153875441565|38.2441145943435|    1.51657558083194|   452.315675480035|\n",
      "|samuel46@love-wes...|544 Alexander Hei...|   LightSeaGreen|  32.6178560628234|13.9895925558253| 37.190503800398|    4.06454855043798|   605.061038804892|\n",
      "+--------------------+--------------------+----------------+------------------+----------------+----------------+--------------------+-------------------+\n",
      "only showing top 20 rows\n",
      "\n"
     ]
    }
   ],
   "source": [
    "data.show()"
   ]
  },
  {
   "cell_type": "code",
   "execution_count": 22,
   "id": "33a14242",
   "metadata": {},
   "outputs": [
    {
     "data": {
      "text/plain": [
       "[Row(Email='mstephenson@fernandez.com', Address='835 Frank TunnelWrightmouth, MI 82180-9605', Avatar='Violet', Avg Session Length=34.4972677251123, Time on App=12.6556511491668, Time on Website=39.5776680195262, Length of Membership=4.08262063295296, Yearly Amount Spent=587.951053968401),\n",
       " Row(Email='hduke@hotmail.com', Address='4547 Archer CommonDiazchester, CA 06566-8576', Avatar='DarkGreen', Avg Session Length=31.9262720263602, Time on App=11.1094607286826, Time on Website=37.2689588682977, Length of Membership=2.66403418213262, Yearly Amount Spent=392.204933444326),\n",
       " Row(Email='pallen@yahoo.com', Address='24645 Valerie Unions Suite 582Cobbborough, DC 99414-7564', Avatar='Bisque', Avg Session Length=33.0009147556427, Time on App=11.3302780577775, Time on Website=37.1105974421209, Length of Membership=4.10454320237642, Yearly Amount Spent=487.547504867472),\n",
       " Row(Email='riverarebecca@gmail.com', Address='1414 David ThroughwayPort Jason, OH 22070-1220', Avatar='SaddleBrown', Avg Session Length=34.3055566297555, Time on App=13.7175136651425, Time on Website=36.7212826779031, Length of Membership=3.12017878274809, Yearly Amount Spent=581.852344035218),\n",
       " Row(Email='mstephens@davidson-herman.com', Address='14023 Rodriguez PassagePort Jacobville, PR 37242-1057', Avatar='MediumAquaMarine', Avg Session Length=33.3306725236464, Time on App=12.7951885510781, Time on Website=37.5366533005947, Length of Membership=4.44630831835143, Yearly Amount Spent=599.406092045764)]"
      ]
     },
     "execution_count": 22,
     "metadata": {},
     "output_type": "execute_result"
    }
   ],
   "source": [
    "data.head(5)"
   ]
  },
  {
   "cell_type": "code",
   "execution_count": 37,
   "id": "f8a48756",
   "metadata": {},
   "outputs": [
    {
     "name": "stdout",
     "output_type": "stream",
     "text": [
      "pallen@yahoo.com\n",
      "--------------\n",
      "24645 Valerie Unions Suite 582Cobbborough, DC 99414-7564\n",
      "--------------\n",
      "Bisque\n",
      "--------------\n",
      "33.0009147556427\n",
      "--------------\n",
      "11.3302780577775\n",
      "--------------\n",
      "37.1105974421209\n",
      "--------------\n",
      "4.10454320237642\n",
      "--------------\n",
      "487.547504867472\n",
      "--------------\n"
     ]
    }
   ],
   "source": [
    "for i in data.head(5)[2]:\n",
    "    print(i)\n",
    "    print('--------------')"
   ]
  },
  {
   "cell_type": "code",
   "execution_count": 39,
   "id": "120214b8",
   "metadata": {},
   "outputs": [],
   "source": [
    "from pyspark.ml.linalg import Vectors\n",
    "from pyspark.ml.feature import VectorAssembler"
   ]
  },
  {
   "cell_type": "code",
   "execution_count": 40,
   "id": "b0abf735",
   "metadata": {},
   "outputs": [
    {
     "data": {
      "text/plain": [
       "['Email',\n",
       " 'Address',\n",
       " 'Avatar',\n",
       " 'Avg Session Length',\n",
       " 'Time on App',\n",
       " 'Time on Website',\n",
       " 'Length of Membership',\n",
       " 'Yearly Amount Spent']"
      ]
     },
     "execution_count": 40,
     "metadata": {},
     "output_type": "execute_result"
    }
   ],
   "source": [
    "data.columns"
   ]
  },
  {
   "cell_type": "code",
   "execution_count": 44,
   "id": "d82cd26c",
   "metadata": {},
   "outputs": [],
   "source": [
    "assembler = VectorAssembler(inputCols=['Avg Session Length',\n",
    " 'Time on App',\n",
    " 'Time on Website',\n",
    " 'Length of Membership',\n",
    " 'Yearly Amount Spent'], outputCol='features')"
   ]
  },
  {
   "cell_type": "code",
   "execution_count": 45,
   "id": "97d77c08",
   "metadata": {},
   "outputs": [],
   "source": [
    "output = assembler.transform(data)"
   ]
  },
  {
   "cell_type": "code",
   "execution_count": 49,
   "id": "dca75743",
   "metadata": {},
   "outputs": [
    {
     "data": {
      "text/plain": [
       "[Row(Email='mstephenson@fernandez.com', Address='835 Frank TunnelWrightmouth, MI 82180-9605', Avatar='Violet', Avg Session Length=34.4972677251123, Time on App=12.6556511491668, Time on Website=39.5776680195262, Length of Membership=4.08262063295296, Yearly Amount Spent=587.951053968401, features=DenseVector([34.4973, 12.6557, 39.5777, 4.0826, 587.9511])),\n",
       " Row(Email='hduke@hotmail.com', Address='4547 Archer CommonDiazchester, CA 06566-8576', Avatar='DarkGreen', Avg Session Length=31.9262720263602, Time on App=11.1094607286826, Time on Website=37.2689588682977, Length of Membership=2.66403418213262, Yearly Amount Spent=392.204933444326, features=DenseVector([31.9263, 11.1095, 37.269, 2.664, 392.2049]))]"
      ]
     },
     "execution_count": 49,
     "metadata": {},
     "output_type": "execute_result"
    }
   ],
   "source": [
    "output.head(2)"
   ]
  },
  {
   "cell_type": "code",
   "execution_count": 50,
   "id": "d93e6c30",
   "metadata": {},
   "outputs": [],
   "source": [
    "final_data_to_work = output.select(['features' , 'Yearly Amount Spent'])"
   ]
  },
  {
   "cell_type": "code",
   "execution_count": 51,
   "id": "25305458",
   "metadata": {},
   "outputs": [
    {
     "data": {
      "text/plain": [
       "DataFrame[features: vector, Yearly Amount Spent: double]"
      ]
     },
     "execution_count": 51,
     "metadata": {},
     "output_type": "execute_result"
    }
   ],
   "source": [
    "final_data_to_work"
   ]
  },
  {
   "cell_type": "code",
   "execution_count": 52,
   "id": "2175aa1b",
   "metadata": {},
   "outputs": [],
   "source": [
    "train_data,test_data = final_data_to_work.randomSplit([0.7 , 0.3])"
   ]
  },
  {
   "cell_type": "code",
   "execution_count": 54,
   "id": "0bf133dd",
   "metadata": {},
   "outputs": [
    {
     "name": "stdout",
     "output_type": "stream",
     "text": [
      "+-------+-------------------+\n",
      "|summary|Yearly Amount Spent|\n",
      "+-------+-------------------+\n",
      "|  count|                350|\n",
      "|   mean| 499.64395709607686|\n",
      "| stddev|  78.00489498476757|\n",
      "|    min|   275.918420650386|\n",
      "|    max|   744.221867104715|\n",
      "+-------+-------------------+\n",
      "\n"
     ]
    }
   ],
   "source": [
    "train_data.describe().show()"
   ]
  },
  {
   "cell_type": "code",
   "execution_count": 55,
   "id": "b5357da0",
   "metadata": {},
   "outputs": [
    {
     "name": "stdout",
     "output_type": "stream",
     "text": [
      "+-------+-------------------+\n",
      "|summary|Yearly Amount Spent|\n",
      "+-------+-------------------+\n",
      "|  count|                150|\n",
      "|   mean| 498.54422763779024|\n",
      "| stddev|  82.55227967864298|\n",
      "|    min|   256.670582290056|\n",
      "|    max|   765.518461938837|\n",
      "+-------+-------------------+\n",
      "\n"
     ]
    }
   ],
   "source": [
    "test_data.describe().show()"
   ]
  },
  {
   "cell_type": "code",
   "execution_count": 56,
   "id": "d2819d47",
   "metadata": {},
   "outputs": [],
   "source": [
    "lr = LinearRegression(labelCol='Yearly Amount Spent')"
   ]
  },
  {
   "cell_type": "code",
   "execution_count": 57,
   "id": "dd0c5223",
   "metadata": {},
   "outputs": [
    {
     "name": "stdout",
     "output_type": "stream",
     "text": [
      "22/07/31 22:43:13 WARN Instrumentation: [18af7569] regParam is zero, which might cause numerical instability and overfitting.\n",
      "22/07/31 22:43:14 WARN InstanceBuilder$NativeBLAS: Failed to load implementation from:dev.ludovic.netlib.blas.JNIBLAS\n",
      "22/07/31 22:43:14 WARN InstanceBuilder$NativeBLAS: Failed to load implementation from:dev.ludovic.netlib.blas.ForeignLinkerBLAS\n"
     ]
    },
    {
     "name": "stderr",
     "output_type": "stream",
     "text": [
      "                                                                                \r"
     ]
    },
    {
     "name": "stdout",
     "output_type": "stream",
     "text": [
      "22/07/31 22:43:14 WARN InstanceBuilder$NativeLAPACK: Failed to load implementation from:dev.ludovic.netlib.lapack.JNILAPACK\n"
     ]
    }
   ],
   "source": [
    "lr_model = lr.fit(train_data)"
   ]
  },
  {
   "cell_type": "code",
   "execution_count": 58,
   "id": "10ead862",
   "metadata": {},
   "outputs": [],
   "source": [
    "test_results = lr_model.evaluate(test_data)"
   ]
  },
  {
   "cell_type": "code",
   "execution_count": 61,
   "id": "9027a2e1",
   "metadata": {},
   "outputs": [
    {
     "name": "stdout",
     "output_type": "stream",
     "text": [
      "+--------------------+\n",
      "|           residuals|\n",
      "+--------------------+\n",
      "|1.193711796076968...|\n",
      "|-1.56319401867222...|\n",
      "|-2.55795384873636...|\n",
      "|-2.04636307898908...|\n",
      "|-4.20641299569979...|\n",
      "|2.239630703115835...|\n",
      "|1.864464138634503...|\n",
      "|4.888534022029489...|\n",
      "|4.433786671143025...|\n",
      "|-1.18234311230480...|\n",
      "|-3.41060513164848...|\n",
      "|1.767830326571129...|\n",
      "|-1.64845914696343...|\n",
      "|3.410605131648481...|\n",
      "|-9.09494701772928...|\n",
      "|-1.36424205265939...|\n",
      "|-8.12860889709554...|\n",
      "|-4.94537744089029...|\n",
      "|5.400124791776761...|\n",
      "|1.620037437533028...|\n",
      "+--------------------+\n",
      "only showing top 20 rows\n",
      "\n"
     ]
    }
   ],
   "source": [
    "test_results.residuals.show()"
   ]
  },
  {
   "cell_type": "code",
   "execution_count": 62,
   "id": "bea4489b",
   "metadata": {},
   "outputs": [
    {
     "data": {
      "text/plain": [
       "9.847604588712945e-12"
      ]
     },
     "execution_count": 62,
     "metadata": {},
     "output_type": "execute_result"
    }
   ],
   "source": [
    "test_results.rootMeanSquaredError"
   ]
  },
  {
   "cell_type": "code",
   "execution_count": 63,
   "id": "7eae8de5",
   "metadata": {},
   "outputs": [
    {
     "data": {
      "text/plain": [
       "1.0"
      ]
     },
     "execution_count": 63,
     "metadata": {},
     "output_type": "execute_result"
    }
   ],
   "source": [
    "test_results.r2"
   ]
  },
  {
   "cell_type": "code",
   "execution_count": 65,
   "id": "f4634876",
   "metadata": {},
   "outputs": [
    {
     "data": {
      "text/plain": [
       "1.0"
      ]
     },
     "execution_count": 65,
     "metadata": {},
     "output_type": "execute_result"
    }
   ],
   "source": [
    "test_results.r2"
   ]
  },
  {
   "cell_type": "code",
   "execution_count": 66,
   "id": "dbe50a94",
   "metadata": {},
   "outputs": [],
   "source": [
    "unlabelled_data = test_data.select('features')"
   ]
  },
  {
   "cell_type": "code",
   "execution_count": 68,
   "id": "e6006671",
   "metadata": {},
   "outputs": [
    {
     "name": "stdout",
     "output_type": "stream",
     "text": [
      "+--------------------+\n",
      "|            features|\n",
      "+--------------------+\n",
      "|[29.5324289670579...|\n",
      "|[30.8162006488763...|\n",
      "|[30.8364326747734...|\n",
      "|[30.8794843441275...|\n",
      "|[31.0613251567161...|\n",
      "|[31.2834474760582...|\n",
      "|[31.3123495994443...|\n",
      "|[31.358477192437,...|\n",
      "|[31.3662121671877...|\n",
      "|[31.5741380228732...|\n",
      "|[31.5761319713223...|\n",
      "|[31.6005122003033...|\n",
      "|[31.721652360509,...|\n",
      "|[31.7366356860503...|\n",
      "|[31.8093003166792...|\n",
      "|[31.8186165667691...|\n",
      "|[31.8279790554653...|\n",
      "|[31.8745516945854...|\n",
      "|[31.9480174211614...|\n",
      "|[32.0180740106321...|\n",
      "+--------------------+\n",
      "only showing top 20 rows\n",
      "\n"
     ]
    }
   ],
   "source": [
    "unlabelled_data.show()"
   ]
  },
  {
   "cell_type": "code",
   "execution_count": 69,
   "id": "b62536f9",
   "metadata": {},
   "outputs": [],
   "source": [
    "predicitions = lr_model.transform(unlabelled_data)"
   ]
  },
  {
   "cell_type": "code",
   "execution_count": 71,
   "id": "a4a541fc",
   "metadata": {},
   "outputs": [
    {
     "name": "stdout",
     "output_type": "stream",
     "text": [
      "+--------------------+------------------+\n",
      "|            features|        prediction|\n",
      "+--------------------+------------------+\n",
      "|[29.5324289670579...| 408.6403510726151|\n",
      "|[30.8162006488763...|266.08634094848463|\n",
      "|[30.8364326747734...|467.50190042699256|\n",
      "|[30.8794843441275...|490.20659998485706|\n",
      "|[31.0613251567161...| 487.5554580579062|\n",
      "|[31.2834474760582...| 591.7810894256446|\n",
      "|[31.3123495994443...| 463.5914180279224|\n",
      "|[31.358477192437,...| 495.1759504494701|\n",
      "|[31.3662121671877...|430.58888255648054|\n",
      "|[31.5741380228732...| 544.4092721605988|\n",
      "|[31.5761319713223...| 541.2265839893283|\n",
      "|[31.6005122003033...| 479.1728514910793|\n",
      "|[31.721652360509,...|347.77692663187463|\n",
      "|[31.7366356860503...|496.93344625552857|\n",
      "|[31.8093003166792...| 536.7718993628501|\n",
      "|[31.8186165667691...|446.41867337013736|\n",
      "|[31.8279790554653...| 440.0027475469501|\n",
      "|[31.8745516945854...|392.28524424627295|\n",
      "|[31.9480174211614...| 461.9208768928926|\n",
      "|[32.0180740106321...| 357.7831107452988|\n",
      "+--------------------+------------------+\n",
      "only showing top 20 rows\n",
      "\n"
     ]
    }
   ],
   "source": [
    "predicitions.show()"
   ]
  },
  {
   "cell_type": "code",
   "execution_count": null,
   "id": "b857e1e5",
   "metadata": {},
   "outputs": [],
   "source": []
  }
 ],
 "metadata": {
  "kernelspec": {
   "display_name": "Python 3 (ipykernel)",
   "language": "python",
   "name": "python3"
  },
  "language_info": {
   "codemirror_mode": {
    "name": "ipython",
    "version": 3
   },
   "file_extension": ".py",
   "mimetype": "text/x-python",
   "name": "python",
   "nbconvert_exporter": "python",
   "pygments_lexer": "ipython3",
   "version": "3.10.4"
  }
 },
 "nbformat": 4,
 "nbformat_minor": 5
}
